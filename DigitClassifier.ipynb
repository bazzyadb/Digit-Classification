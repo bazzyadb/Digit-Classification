{
  "nbformat": 4,
  "nbformat_minor": 0,
  "metadata": {
    "colab": {
      "name": "Copy of Untitled",
      "provenance": [],
      "collapsed_sections": []
    },
    "kernelspec": {
      "name": "python3",
      "display_name": "Python 3"
    },
    "accelerator": "GPU"
  },
  "cells": [
    {
      "cell_type": "markdown",
      "metadata": {
        "id": "NcKn8P8dS4vd",
        "colab_type": "text"
      },
      "source": [
        "\n",
        "\n",
        "> Importing required libraries and functions\n",
        "\n"
      ]
    },
    {
      "cell_type": "code",
      "metadata": {
        "id": "Qlj8L14OGb3t",
        "colab_type": "code",
        "colab": {}
      },
      "source": [
        "import tensorflow as tf \n",
        "import pandas as pd \n",
        "\n",
        "from tensorflow.keras.datasets.mnist import load_data \n",
        "from tensorflow.keras.callbacks import LearningRateScheduler"
      ],
      "execution_count": null,
      "outputs": []
    },
    {
      "cell_type": "markdown",
      "metadata": {
        "id": "d5KnuvjuKQQm",
        "colab_type": "text"
      },
      "source": [
        "\n",
        "\n",
        "> Importing the MNIST digit dataset\n",
        "\n"
      ]
    },
    {
      "cell_type": "code",
      "metadata": {
        "id": "D3UayobVU-v6",
        "colab_type": "code",
        "colab": {}
      },
      "source": [
        "(xtrain,ytrain),(xtest,ytest)=load_data(path=\"mnist.npz\")\n",
        "xtrain=xtrain/255.0\n",
        "xtest=xtest/255.0;yp=ytrain\n",
        "xtrain=xtrain.reshape(-1,28,28,1) \n",
        "\n",
        "xtest=xtest.reshape(-1,28,28,1)\n",
        "ytrain=tf.keras.utils.to_categorical(ytrain,num_classes=10)\n",
        "ytest=tf.keras.utils.to_categorical(ytest,num_classes=10)\n"
      ],
      "execution_count": null,
      "outputs": []
    },
    {
      "cell_type": "markdown",
      "metadata": {
        "id": "xQ2XBZyLSglY",
        "colab_type": "text"
      },
      "source": [
        "\n",
        "\n",
        "> Defining the structure of our model\n",
        "\n"
      ]
    },
    {
      "cell_type": "code",
      "metadata": {
        "id": "53J4bXszh-ln",
        "colab_type": "code",
        "colab": {
          "base_uri": "https://localhost:8080/",
          "height": 1000
        },
        "outputId": "aaee9579-8b7c-45df-d464-4921d2a18536"
      },
      "source": [
        "model = tf.keras.models.Sequential([\n",
        "\n",
        "    tf.keras.layers.Conv2D(30, (2,2), activation='relu', input_shape=(28,28,1)),\n",
        "    \n",
        "    tf.keras.layers.Conv2D(50, (2,2), padding=\"same\", activation='relu'),\n",
        "    tf.keras.layers.AveragePooling2D(2),\n",
        "    tf.keras.layers.Conv2D(70, (2,2), activation='relu'), \n",
        "    tf.keras.layers.MaxPooling2D(2),\n",
        "    tf.keras.layers.Conv2D(100,2,padding=\"same\",activation=\"relu\"),\n",
        "\n",
        "    tf.keras.layers.Flatten(),  \n",
        "    tf.keras.layers.Dense(1024,activation=\"relu\"), \n",
        "    \n",
        "    tf.keras.layers.Dropout(0.3),\n",
        "    tf.keras.layers.Dense(1024, activation='relu'),  \n",
        "    tf.keras.layers.BatchNormalization(),\n",
        "    tf.keras.layers.Dense(256,activation=\"sigmoid\"),\n",
        "    \n",
        "    tf.keras.layers.Dense(10, activation='softmax')\n",
        "])\n",
        "model.summary()"
      ],
      "execution_count": null,
      "outputs": [
        {
          "output_type": "stream",
          "text": [
            "Model: \"sequential_3\"\n",
            "_________________________________________________________________\n",
            "Layer (type)                 Output Shape              Param #   \n",
            "=================================================================\n",
            "conv2d_12 (Conv2D)           (None, 27, 27, 30)        150       \n",
            "_________________________________________________________________\n",
            "conv2d_13 (Conv2D)           (None, 27, 27, 50)        6050      \n",
            "_________________________________________________________________\n",
            "average_pooling2d_3 (Average (None, 13, 13, 50)        0         \n",
            "_________________________________________________________________\n",
            "conv2d_14 (Conv2D)           (None, 12, 12, 70)        14070     \n",
            "_________________________________________________________________\n",
            "max_pooling2d_3 (MaxPooling2 (None, 6, 6, 70)          0         \n",
            "_________________________________________________________________\n",
            "conv2d_15 (Conv2D)           (None, 6, 6, 100)         28100     \n",
            "_________________________________________________________________\n",
            "flatten_3 (Flatten)          (None, 3600)              0         \n",
            "_________________________________________________________________\n",
            "dense_12 (Dense)             (None, 1024)              3687424   \n",
            "_________________________________________________________________\n",
            "dropout_3 (Dropout)          (None, 1024)              0         \n",
            "_________________________________________________________________\n",
            "dense_13 (Dense)             (None, 1024)              1049600   \n",
            "_________________________________________________________________\n",
            "batch_normalization_3 (Batch (None, 1024)              4096      \n",
            "_________________________________________________________________\n",
            "dense_14 (Dense)             (None, 256)               262400    \n",
            "_________________________________________________________________\n",
            "dense_15 (Dense)             (None, 10)                2570      \n",
            "=================================================================\n",
            "Total params: 5,054,460\n",
            "Trainable params: 5,052,412\n",
            "Non-trainable params: 2,048\n",
            "_________________________________________________________________\n"
          ],
          "name": "stdout"
        }
      ]
    },
    {
      "cell_type": "markdown",
      "metadata": {
        "id": "0iOrOJHZSPqN",
        "colab_type": "text"
      },
      "source": [
        "\n",
        "\n",
        "> Compiling and Training the Model\n",
        "\n"
      ]
    },
    {
      "cell_type": "code",
      "metadata": {
        "id": "o3R57-bFit31",
        "colab_type": "code",
        "colab": {
          "base_uri": "https://localhost:8080/",
          "height": 1000
        },
        "outputId": "4ac3e7bc-63c6-4087-f8fa-38f0b4c5b784"
      },
      "source": [
        "model.compile(optimizer=tf.keras.optimizers.Adam(lr=10e-4),loss=\"categorical_crossentropy\",metrics=[\"accuracy\"])\n",
        "model.fit(xtrain,ytrain,epochs=50,verbose=1,steps_per_epoch=150,batch_size=300,callbacks=[LearningRateScheduler(lambda x:1e-3*0.9**x)],validation_data=(xtest,ytest),use_multiprocessing=True)"
      ],
      "execution_count": null,
      "outputs": [
        {
          "output_type": "stream",
          "text": [
            "Epoch 1/50\n",
            "150/150 [==============================] - 7s 47ms/step - loss: 0.0392 - accuracy: 0.9880 - val_loss: 0.0406 - val_accuracy: 0.9880 - lr: 0.0010\n",
            "Epoch 2/50\n",
            "150/150 [==============================] - 7s 46ms/step - loss: 0.0261 - accuracy: 0.9919 - val_loss: 0.0388 - val_accuracy: 0.9893 - lr: 9.0000e-04\n",
            "Epoch 3/50\n",
            "150/150 [==============================] - 7s 46ms/step - loss: 0.0225 - accuracy: 0.9930 - val_loss: 0.0318 - val_accuracy: 0.9908 - lr: 8.1000e-04\n",
            "Epoch 4/50\n",
            "150/150 [==============================] - 7s 46ms/step - loss: 0.0162 - accuracy: 0.9951 - val_loss: 0.0306 - val_accuracy: 0.9912 - lr: 7.2900e-04\n",
            "Epoch 5/50\n",
            "150/150 [==============================] - 7s 46ms/step - loss: 0.0091 - accuracy: 0.9970 - val_loss: 0.0277 - val_accuracy: 0.9917 - lr: 6.5610e-04\n",
            "Epoch 6/50\n",
            "150/150 [==============================] - 7s 46ms/step - loss: 0.0082 - accuracy: 0.9977 - val_loss: 0.0243 - val_accuracy: 0.9926 - lr: 5.9049e-04\n",
            "Epoch 7/50\n",
            "150/150 [==============================] - 7s 46ms/step - loss: 0.0069 - accuracy: 0.9980 - val_loss: 0.0268 - val_accuracy: 0.9931 - lr: 5.3144e-04\n",
            "Epoch 8/50\n",
            "150/150 [==============================] - 7s 46ms/step - loss: 0.0059 - accuracy: 0.9981 - val_loss: 0.0245 - val_accuracy: 0.9936 - lr: 4.7830e-04\n",
            "Epoch 9/50\n",
            "150/150 [==============================] - 7s 46ms/step - loss: 0.0035 - accuracy: 0.9991 - val_loss: 0.0226 - val_accuracy: 0.9938 - lr: 4.3047e-04\n",
            "Epoch 10/50\n",
            "150/150 [==============================] - 7s 46ms/step - loss: 0.0037 - accuracy: 0.9989 - val_loss: 0.0253 - val_accuracy: 0.9925 - lr: 3.8742e-04\n",
            "Epoch 11/50\n",
            "150/150 [==============================] - 7s 46ms/step - loss: 0.0025 - accuracy: 0.9992 - val_loss: 0.0222 - val_accuracy: 0.9937 - lr: 3.4868e-04\n",
            "Epoch 12/50\n",
            "150/150 [==============================] - 7s 46ms/step - loss: 0.0023 - accuracy: 0.9994 - val_loss: 0.0281 - val_accuracy: 0.9929 - lr: 3.1381e-04\n",
            "Epoch 13/50\n",
            "150/150 [==============================] - 7s 46ms/step - loss: 0.0015 - accuracy: 0.9996 - val_loss: 0.0288 - val_accuracy: 0.9927 - lr: 2.8243e-04\n",
            "Epoch 14/50\n",
            "150/150 [==============================] - 7s 46ms/step - loss: 0.0016 - accuracy: 0.9996 - val_loss: 0.0281 - val_accuracy: 0.9936 - lr: 2.5419e-04\n",
            "Epoch 15/50\n",
            "150/150 [==============================] - 7s 46ms/step - loss: 0.0010 - accuracy: 0.9997 - val_loss: 0.0263 - val_accuracy: 0.9934 - lr: 2.2877e-04\n",
            "Epoch 16/50\n",
            "150/150 [==============================] - 7s 46ms/step - loss: 8.7564e-04 - accuracy: 0.9999 - val_loss: 0.0250 - val_accuracy: 0.9939 - lr: 2.0589e-04\n",
            "Epoch 17/50\n",
            "150/150 [==============================] - 7s 46ms/step - loss: 6.6496e-04 - accuracy: 0.9998 - val_loss: 0.0276 - val_accuracy: 0.9935 - lr: 1.8530e-04\n",
            "Epoch 18/50\n",
            "150/150 [==============================] - 7s 46ms/step - loss: 4.5197e-04 - accuracy: 0.9999 - val_loss: 0.0268 - val_accuracy: 0.9928 - lr: 1.6677e-04\n",
            "Epoch 19/50\n",
            "150/150 [==============================] - 7s 46ms/step - loss: 8.1415e-04 - accuracy: 0.9998 - val_loss: 0.0249 - val_accuracy: 0.9940 - lr: 1.5009e-04\n",
            "Epoch 20/50\n",
            "150/150 [==============================] - 7s 46ms/step - loss: 6.0946e-04 - accuracy: 0.9999 - val_loss: 0.0247 - val_accuracy: 0.9936 - lr: 1.3509e-04\n",
            "Epoch 21/50\n",
            "150/150 [==============================] - 7s 46ms/step - loss: 4.0637e-04 - accuracy: 1.0000 - val_loss: 0.0258 - val_accuracy: 0.9933 - lr: 1.2158e-04\n",
            "Epoch 22/50\n",
            "150/150 [==============================] - 7s 46ms/step - loss: 1.4939e-04 - accuracy: 1.0000 - val_loss: 0.0258 - val_accuracy: 0.9933 - lr: 1.0942e-04\n",
            "Epoch 23/50\n",
            "150/150 [==============================] - 7s 46ms/step - loss: 3.5530e-04 - accuracy: 1.0000 - val_loss: 0.0254 - val_accuracy: 0.9941 - lr: 9.8477e-05\n",
            "Epoch 24/50\n",
            "150/150 [==============================] - 7s 46ms/step - loss: 3.9627e-04 - accuracy: 1.0000 - val_loss: 0.0256 - val_accuracy: 0.9937 - lr: 8.8629e-05\n",
            "Epoch 25/50\n",
            "150/150 [==============================] - 7s 46ms/step - loss: 3.0541e-04 - accuracy: 1.0000 - val_loss: 0.0260 - val_accuracy: 0.9934 - lr: 7.9766e-05\n",
            "Epoch 26/50\n",
            "150/150 [==============================] - 7s 46ms/step - loss: 2.9577e-04 - accuracy: 1.0000 - val_loss: 0.0258 - val_accuracy: 0.9933 - lr: 7.1790e-05\n",
            "Epoch 27/50\n",
            "150/150 [==============================] - 7s 46ms/step - loss: 1.0335e-04 - accuracy: 1.0000 - val_loss: 0.0263 - val_accuracy: 0.9934 - lr: 6.4611e-05\n",
            "Epoch 28/50\n",
            "150/150 [==============================] - 7s 46ms/step - loss: 2.9534e-04 - accuracy: 1.0000 - val_loss: 0.0259 - val_accuracy: 0.9940 - lr: 5.8150e-05\n",
            "Epoch 29/50\n",
            "150/150 [==============================] - 7s 46ms/step - loss: 2.7246e-04 - accuracy: 1.0000 - val_loss: 0.0258 - val_accuracy: 0.9937 - lr: 5.2335e-05\n",
            "Epoch 30/50\n",
            "150/150 [==============================] - 7s 46ms/step - loss: 3.0281e-04 - accuracy: 1.0000 - val_loss: 0.0263 - val_accuracy: 0.9941 - lr: 4.7101e-05\n",
            "Epoch 31/50\n",
            "150/150 [==============================] - 7s 46ms/step - loss: 3.0345e-04 - accuracy: 1.0000 - val_loss: 0.0267 - val_accuracy: 0.9938 - lr: 4.2391e-05\n",
            "Epoch 32/50\n",
            "150/150 [==============================] - 7s 46ms/step - loss: 1.4105e-04 - accuracy: 1.0000 - val_loss: 0.0269 - val_accuracy: 0.9932 - lr: 3.8152e-05\n",
            "Epoch 33/50\n",
            "150/150 [==============================] - 7s 46ms/step - loss: 2.5959e-04 - accuracy: 1.0000 - val_loss: 0.0269 - val_accuracy: 0.9932 - lr: 3.4337e-05\n",
            "Epoch 34/50\n",
            "150/150 [==============================] - 7s 46ms/step - loss: 7.8933e-05 - accuracy: 1.0000 - val_loss: 0.0268 - val_accuracy: 0.9933 - lr: 3.0903e-05\n",
            "Epoch 35/50\n",
            "150/150 [==============================] - 7s 46ms/step - loss: 2.8185e-04 - accuracy: 1.0000 - val_loss: 0.0274 - val_accuracy: 0.9934 - lr: 2.7813e-05\n",
            "Epoch 36/50\n",
            "150/150 [==============================] - 7s 46ms/step - loss: 2.3722e-04 - accuracy: 1.0000 - val_loss: 0.0274 - val_accuracy: 0.9937 - lr: 2.5032e-05\n",
            "Epoch 37/50\n",
            "150/150 [==============================] - 7s 46ms/step - loss: 7.9434e-05 - accuracy: 1.0000 - val_loss: 0.0274 - val_accuracy: 0.9937 - lr: 2.2528e-05\n",
            "Epoch 38/50\n",
            "150/150 [==============================] - 7s 45ms/step - loss: 3.5840e-04 - accuracy: 1.0000 - val_loss: 0.0272 - val_accuracy: 0.9936 - lr: 2.0276e-05\n",
            "Epoch 39/50\n",
            "150/150 [==============================] - 7s 46ms/step - loss: 2.1371e-04 - accuracy: 1.0000 - val_loss: 0.0270 - val_accuracy: 0.9940 - lr: 1.8248e-05\n",
            "Epoch 40/50\n",
            "150/150 [==============================] - 7s 46ms/step - loss: 1.0016e-04 - accuracy: 1.0000 - val_loss: 0.0274 - val_accuracy: 0.9940 - lr: 1.6423e-05\n",
            "Epoch 41/50\n",
            "150/150 [==============================] - 7s 46ms/step - loss: 7.5822e-05 - accuracy: 1.0000 - val_loss: 0.0274 - val_accuracy: 0.9939 - lr: 1.4781e-05\n",
            "Epoch 42/50\n",
            "150/150 [==============================] - 7s 46ms/step - loss: 1.9722e-04 - accuracy: 1.0000 - val_loss: 0.0273 - val_accuracy: 0.9941 - lr: 1.3303e-05\n",
            "Epoch 43/50\n",
            "150/150 [==============================] - 7s 46ms/step - loss: 1.9636e-04 - accuracy: 1.0000 - val_loss: 0.0274 - val_accuracy: 0.9938 - lr: 1.1973e-05\n",
            "Epoch 44/50\n",
            "150/150 [==============================] - 7s 46ms/step - loss: 2.1102e-04 - accuracy: 1.0000 - val_loss: 0.0275 - val_accuracy: 0.9938 - lr: 1.0775e-05\n",
            "Epoch 45/50\n",
            "150/150 [==============================] - 7s 46ms/step - loss: 1.1402e-04 - accuracy: 1.0000 - val_loss: 0.0276 - val_accuracy: 0.9938 - lr: 9.6977e-06\n",
            "Epoch 46/50\n",
            "150/150 [==============================] - 7s 46ms/step - loss: 1.3563e-04 - accuracy: 1.0000 - val_loss: 0.0277 - val_accuracy: 0.9939 - lr: 8.7280e-06\n",
            "Epoch 47/50\n",
            "150/150 [==============================] - 7s 46ms/step - loss: 6.9282e-05 - accuracy: 1.0000 - val_loss: 0.0277 - val_accuracy: 0.9936 - lr: 7.8552e-06\n",
            "Epoch 48/50\n",
            "150/150 [==============================] - 7s 46ms/step - loss: 1.4963e-04 - accuracy: 1.0000 - val_loss: 0.0276 - val_accuracy: 0.9937 - lr: 7.0697e-06\n",
            "Epoch 49/50\n",
            "150/150 [==============================] - 7s 46ms/step - loss: 1.2770e-04 - accuracy: 1.0000 - val_loss: 0.0275 - val_accuracy: 0.9938 - lr: 6.3627e-06\n",
            "Epoch 50/50\n",
            "150/150 [==============================] - 7s 46ms/step - loss: 6.8813e-05 - accuracy: 1.0000 - val_loss: 0.0275 - val_accuracy: 0.9938 - lr: 5.7264e-06\n"
          ],
          "name": "stdout"
        },
        {
          "output_type": "execute_result",
          "data": {
            "text/plain": [
              "<tensorflow.python.keras.callbacks.History at 0x7f3d05f1b0b8>"
            ]
          },
          "metadata": {
            "tags": []
          },
          "execution_count": 35
        }
      ]
    },
    {
      "cell_type": "markdown",
      "metadata": {
        "id": "2sjKjWV6Rxsp",
        "colab_type": "text"
      },
      "source": [
        "\n",
        "\n",
        "> Plotting the Confusion Matrix\n",
        "\n",
        "\n"
      ]
    },
    {
      "cell_type": "code",
      "metadata": {
        "id": "ndgrAgPziMi8",
        "colab_type": "code",
        "colab": {
          "base_uri": "https://localhost:8080/",
          "height": 311
        },
        "outputId": "f8f51b0f-5207-40d4-e8d7-d1e58ed16a84"
      },
      "source": [
        "import itertools\n",
        "import matplotlib.pyplot as plt \n",
        "import numpy as np\n",
        "from sklearn.metrics import accuracy_score,confusion_matrix\n",
        "\n",
        "\n",
        "def plot_confusion_matrix(cm, classes,\n",
        "                          normalize=False,\n",
        "                          title='Confusion matrix',\n",
        "                          cmap=plt.cm.Blues):\n",
        "    plt.imshow(cm, interpolation='nearest', cmap=cmap)\n",
        "    plt.title(title)\n",
        "    plt.colorbar()\n",
        "    tick_marks = np.arange(len(classes))\n",
        "    plt.xticks(tick_marks, classes, rotation=45)\n",
        "    plt.yticks(tick_marks, classes)\n",
        "\n",
        "    if normalize:\n",
        "        cm = cm.astype('float') / cm.sum(axis=1)[:, np.newaxis]\n",
        "\n",
        "    thresh = cm.max() / 2.\n",
        "    for i, j in itertools.product(range(cm.shape[0]), range(cm.shape[1])):\n",
        "        plt.text(j, i, cm[i, j],\n",
        "                 horizontalalignment=\"center\",\n",
        "                 color=\"white\" if cm[i, j] > thresh else \"black\")\n",
        "\n",
        "    plt.tight_layout()\n",
        "    plt.ylabel('True label')\n",
        "    plt.xlabel('Predicted label')\n",
        "\n",
        "Y_pred = model.predict(xtest)\n",
        "\n",
        "Y_pred_classes = np.argmax(Y_pred,axis=1) \n",
        "\n",
        "Y_true = np.argmax(ytest,axis = 1) \n",
        "\n",
        "confusion_mtx = confusion_matrix(Y_true, Y_pred_classes) \n",
        "\n",
        "plot_confusion_matrix(confusion_mtx, classes = range(10)) \n"
      ],
      "execution_count": null,
      "outputs": [
        {
          "output_type": "display_data",
          "data": {
            "image/png": "[encoded data removed]",
            "text/plain": [
              "<Figure size 432x288 with 2 Axes>"
            ]
          },
          "metadata": {
            "tags": [],
            "needs_background": "light"
          }
        }
      ]
    },
    {
      "cell_type": "markdown",
      "metadata": {
        "id": "Zrjdw2K4Q-Rf",
        "colab_type": "text"
      },
      "source": [
        "\n",
        "\n",
        "\n",
        "> Plotting some of the most signnficant errors\n",
        "\n"
      ]
    },
    {
      "cell_type": "code",
      "metadata": {
        "id": "ZSQR3k3DsWaZ",
        "colab_type": "code",
        "colab": {
          "base_uri": "https://localhost:8080/",
          "height": 450
        },
        "outputId": "80282ff9-3771-4e4b-d44a-ec04a475ba37"
      },
      "source": [
        "\n",
        "errors = (Y_pred_classes - Y_true != 0)\n",
        "\n",
        "\n",
        "Y_pred_classes_errors = Y_pred_classes[errors]\n",
        "Y_pred_errors = Y_pred[errors]\n",
        "Y_true_errors = Y_true[errors]\n",
        "X_val_errors = xtest[errors]\n",
        "\n",
        "def display_errors(errors_index,img_errors,pred_errors, obs_errors):\n",
        "    \n",
        "    n = 0\n",
        "    nrows = 4\n",
        "    ncols = 5\n",
        "    fig, ax = plt.subplots(nrows,ncols,sharex=True,sharey=True, figsize=(7,7))\n",
        "    plt.subplots_adjust(wspace=1.51, hspace=1.51)\n",
        "    for row in range(nrows):\n",
        "\n",
        "        for col in range(ncols):\n",
        "            error = errors_index[n] \n",
        "            \n",
        "            ax[row,col].imshow((img_errors[error]).reshape(28,28))\n",
        "            ax[row,col].set_title(\"Predicted label :{}\\nTrue label :{}\".format(pred_errors[error],obs_errors[error]))\n",
        "            n +=1\n",
        "Y_pred_errors_prob = np.max(Y_pred_errors,axis=1)\n",
        "\n",
        "\n",
        "true_prob_errors = np.diagonal(np.take(Y_pred_errors, Y_true_errors,axis=1))\n",
        "\n",
        "delta_pred_true_errors = Y_pred_errors_prob - true_prob_errors\n",
        "\n",
        "\n",
        "sorted_dela_errors = np.argsort(delta_pred_true_errors)\n",
        "\n",
        "\n",
        "most_important_errors = sorted_dela_errors[-20:]\n",
        "\n",
        "display_errors(most_important_errors, X_val_errors, Y_pred_classes_errors, Y_true_errors)\n"
      ],
      "execution_count": null,
      "outputs": [
        {
          "output_type": "display_data",
          "data": {
            "image/png": "[encoded data removed]",
            "text/plain": [
              "<Figure size 504x504 with 20 Axes>"
            ]
          },
          "metadata": {
            "tags": [],
            "needs_background": "light"
          }
        }
      ]
    }
  ]
}